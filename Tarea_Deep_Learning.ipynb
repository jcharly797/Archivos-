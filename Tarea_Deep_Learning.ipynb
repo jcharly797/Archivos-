{
  "cells": [
    {
      "cell_type": "markdown",
      "metadata": {
        "id": "view-in-github",
        "colab_type": "text"
      },
      "source": [
        "<a href=\"https://colab.research.google.com/github/jcharly797/Archivos-/blob/main/Tarea_Deep_Learning.ipynb\" target=\"_parent\"><img src=\"https://colab.research.google.com/assets/colab-badge.svg\" alt=\"Open In Colab\"/></a>"
      ]
    },
    {
      "cell_type": "markdown",
      "id": "b7cfafec",
      "metadata": {
        "papermill": {
          "duration": 0.012522,
          "end_time": "2023-03-15T23:44:59.540335",
          "exception": false,
          "start_time": "2023-03-15T23:44:59.527813",
          "status": "completed"
        },
        "tags": [],
        "id": "b7cfafec"
      },
      "source": [
        "# INTRODUCCIÓN A DEEP LEARNING\n",
        "\n",
        "## ¿Qué es el aprendizaje profundo?\n",
        "\n",
        "* Algunos de los avances más impresionantes en inteligencia artificial de los últimos años se han producido en el campo del aprendizaje profundo.\n",
        "\n",
        "* El procesamiento del lenguaje natural, el reconocimiento de imágenes y los juegos son tareas en las que los modelos de aprendizaje profundo se han acercado o incluso superado el rendimiento a nivel humano.\n",
        "\n",
        "* ¿Qué es el aprendizaje profundo? El aprendizaje profundo es un enfoque del aprendizaje automático que ha permitido identificar tipos de patrones complejos y jerárquicos que se encuentran en los conjuntos de datos más desafiantes del mundo real.\n",
        "\n",
        "El objetivo principal es presentar un proyecto sencillo de Deep Learning y practicar los principales usos de bibliotecas como `keras` o `tensorflow`."
      ]
    },
    {
      "cell_type": "markdown",
      "id": "180ec57f",
      "metadata": {
        "papermill": {
          "duration": 0.01151,
          "end_time": "2023-03-15T23:44:59.563675",
          "exception": false,
          "start_time": "2023-03-15T23:44:59.552165",
          "status": "completed"
        },
        "tags": [],
        "id": "180ec57f"
      },
      "source": [
        "# Load Data\n"
      ]
    },
    {
      "cell_type": "code",
      "execution_count": null,
      "id": "24458684",
      "metadata": {
        "id": "24458684"
      },
      "outputs": [],
      "source": [
        "#!pip install tensorflow"
      ]
    },
    {
      "cell_type": "code",
      "execution_count": 1,
      "id": "98df1401",
      "metadata": {
        "_cell_guid": "b1076dfc-b9ad-4769-8c92-a6c4dae69d19",
        "_uuid": "8f2839f25d086af736a60e9eeb907d3b93b6e0e5",
        "execution": {
          "iopub.execute_input": "2023-03-15T23:44:59.592127Z",
          "iopub.status.busy": "2023-03-15T23:44:59.591590Z",
          "iopub.status.idle": "2023-03-15T23:45:01.663966Z",
          "shell.execute_reply": "2023-03-15T23:45:01.662034Z"
        },
        "papermill": {
          "duration": 2.089374,
          "end_time": "2023-03-15T23:45:01.666763",
          "exception": false,
          "start_time": "2023-03-15T23:44:59.577389",
          "status": "completed"
        },
        "tags": [],
        "id": "98df1401"
      },
      "outputs": [],
      "source": [
        "# first neural network with keras tutorial\n",
        "\n",
        "from numpy import loadtxt\n",
        "from tensorflow.keras.models import Sequential\n",
        "from tensorflow.keras.layers import Dense\n",
        "\n",
        "#\n",
        "import warnings\n",
        "warnings.filterwarnings('ignore')"
      ]
    },
    {
      "cell_type": "markdown",
      "source": [
        "En esta clase de Keras, utilizaremos el conjunto de datos sobre el inicio de la diabetes de la población originaria Pima.\n",
        "\n",
        "Este es un conjunto de datos de aprendizaje automático estándar del repositorio [UCI Machine Learning](https://archive.ics.uci.edu/). Los datos consisten en los registros médicos de los indios Pima.\n",
        "\n",
        "Como tal, se trata de un problema de clasificación binaria (inicio de diabetes como 1 o no como 0).\n",
        "\n",
        "Todas las variables de entrada que describen a cada paciente son numéricas--esto facilita su uso directamente con redes neuronales que esperan valores numéricos de entrada y salida y es una opción ideal para nuestra primera red neuronal en Keras--.\n",
        "\n",
        "El conjunto de datos está disponible [aquí](https://raw.githubusercontent.com/jbrownlee/Datasets/master/pima-indians-diabetes.data.csv). Es un archivo CSV del conjunto de datos (pima-indians-diabetes.csv). Los detalles del conjunto de datos esta disponible [aquí](https://raw.githubusercontent.com/jbrownlee/Datasets/master/pima-indians-diabetes.names)."
      ],
      "metadata": {
        "id": "v8kMPnldvkGN"
      },
      "id": "v8kMPnldvkGN"
    },
    {
      "cell_type": "code",
      "source": [],
      "metadata": {
        "id": "oZsOPS9pSyr4"
      },
      "id": "oZsOPS9pSyr4",
      "execution_count": null,
      "outputs": []
    },
    {
      "cell_type": "markdown",
      "source": [
        "The variables can be summarized as follows:\n",
        "\n",
        "Input Variables (X):\n",
        "\n",
        "* Number of times pregnant\n",
        "* Plasma glucose concentration at 2 hours in an oral glucose tolerance test\n",
        "* Diastolic blood pressure (mm Hg)\n",
        "* Triceps skin fold thickness (mm)\n",
        "* 2-hour serum insulin (mu U/ml)\n",
        "* Body mass index (weight in kg/(height in m)^2)\n",
        "* Diabetes pedigree function\n",
        "* Age (years)\n",
        "\n",
        "Output Variables (y):\n",
        "\n",
        "* Class variable (0 or 1)\n"
      ],
      "metadata": {
        "id": "E6GcwfXZMdWS"
      },
      "id": "E6GcwfXZMdWS"
    },
    {
      "cell_type": "code",
      "source": [
        "#\n",
        "dataset = loadtxt('https://raw.githubusercontent.com/jcharly797/Archivos-/main/iris.csv', delimiter=',')\n",
        "\n",
        "dataset"
      ],
      "metadata": {
        "colab": {
          "base_uri": "https://localhost:8080/"
        },
        "id": "LneYsTRUSy1A",
        "outputId": "441b967f-9367-4915-bc8d-2affd237187e"
      },
      "id": "LneYsTRUSy1A",
      "execution_count": 3,
      "outputs": [
        {
          "output_type": "execute_result",
          "data": {
            "text/plain": [
              "array([[5.1, 3.5, 1.4, 0.2, 1. ],\n",
              "       [4.9, 3. , 1.4, 0.2, 1. ],\n",
              "       [4.7, 3.2, 1.3, 0.2, 1. ],\n",
              "       [4.6, 3.1, 1.5, 0.2, 1. ],\n",
              "       [5. , 3.6, 1.4, 0.2, 1. ],\n",
              "       [5.4, 3.9, 1.7, 0.4, 1. ],\n",
              "       [4.6, 3.4, 1.4, 0.3, 1. ],\n",
              "       [5. , 3.4, 1.5, 0.2, 1. ],\n",
              "       [4.4, 2.9, 1.4, 0.2, 1. ],\n",
              "       [4.9, 3.1, 1.5, 0.1, 1. ],\n",
              "       [5.4, 3.7, 1.5, 0.2, 1. ],\n",
              "       [4.8, 3.4, 1.6, 0.2, 1. ],\n",
              "       [4.8, 3. , 1.4, 0.1, 1. ],\n",
              "       [4.3, 3. , 1.1, 0.1, 1. ],\n",
              "       [5.8, 4. , 1.2, 0.2, 1. ],\n",
              "       [5.7, 4.4, 1.5, 0.4, 1. ],\n",
              "       [5.4, 3.9, 1.3, 0.4, 1. ],\n",
              "       [5.1, 3.5, 1.4, 0.3, 1. ],\n",
              "       [5.7, 3.8, 1.7, 0.3, 1. ],\n",
              "       [5.1, 3.8, 1.5, 0.3, 1. ],\n",
              "       [5.4, 3.4, 1.7, 0.2, 1. ],\n",
              "       [5.1, 3.7, 1.5, 0.4, 1. ],\n",
              "       [4.6, 3.6, 1. , 0.2, 1. ],\n",
              "       [5.1, 3.3, 1.7, 0.5, 1. ],\n",
              "       [4.8, 3.4, 1.9, 0.2, 1. ],\n",
              "       [5. , 3. , 1.6, 0.2, 1. ],\n",
              "       [5. , 3.4, 1.6, 0.4, 1. ],\n",
              "       [5.2, 3.5, 1.5, 0.2, 1. ],\n",
              "       [5.2, 3.4, 1.4, 0.2, 1. ],\n",
              "       [4.7, 3.2, 1.6, 0.2, 1. ],\n",
              "       [4.8, 3.1, 1.6, 0.2, 1. ],\n",
              "       [5.4, 3.4, 1.5, 0.4, 1. ],\n",
              "       [5.2, 4.1, 1.5, 0.1, 1. ],\n",
              "       [5.5, 4.2, 1.4, 0.2, 1. ],\n",
              "       [4.9, 3.1, 1.5, 0.1, 1. ],\n",
              "       [5. , 3.2, 1.2, 0.2, 1. ],\n",
              "       [5.5, 3.5, 1.3, 0.2, 1. ],\n",
              "       [4.9, 3.1, 1.5, 0.1, 1. ],\n",
              "       [4.4, 3. , 1.3, 0.2, 1. ],\n",
              "       [5.1, 3.4, 1.5, 0.2, 1. ],\n",
              "       [5. , 3.5, 1.3, 0.3, 1. ],\n",
              "       [4.5, 2.3, 1.3, 0.3, 1. ],\n",
              "       [4.4, 3.2, 1.3, 0.2, 1. ],\n",
              "       [5. , 3.5, 1.6, 0.6, 1. ],\n",
              "       [5.1, 3.8, 1.9, 0.4, 1. ],\n",
              "       [4.8, 3. , 1.4, 0.3, 1. ],\n",
              "       [5.1, 3.8, 1.6, 0.2, 1. ],\n",
              "       [4.6, 3.2, 1.4, 0.2, 1. ],\n",
              "       [5.3, 3.7, 1.5, 0.2, 1. ],\n",
              "       [5. , 3.3, 1.4, 0.2, 1. ],\n",
              "       [7. , 3.2, 4.7, 1.4, 2. ],\n",
              "       [6.4, 3.2, 4.5, 1.5, 2. ],\n",
              "       [6.9, 3.1, 4.9, 1.5, 2. ],\n",
              "       [5.5, 2.3, 4. , 1.3, 2. ],\n",
              "       [6.5, 2.8, 4.6, 1.5, 2. ],\n",
              "       [5.7, 2.8, 4.5, 1.3, 2. ],\n",
              "       [6.3, 3.3, 4.7, 1.6, 2. ],\n",
              "       [4.9, 2.4, 3.3, 1. , 2. ],\n",
              "       [6.6, 2.9, 4.6, 1.3, 2. ],\n",
              "       [5.2, 2.7, 3.9, 1.4, 2. ],\n",
              "       [5. , 2. , 3.5, 1. , 2. ],\n",
              "       [5.9, 3. , 4.2, 1.5, 2. ],\n",
              "       [6. , 2.2, 4. , 1. , 2. ],\n",
              "       [6.1, 2.9, 4.7, 1.4, 2. ],\n",
              "       [5.6, 2.9, 3.6, 1.3, 2. ],\n",
              "       [6.7, 3.1, 4.4, 1.4, 2. ],\n",
              "       [5.6, 3. , 4.5, 1.5, 2. ],\n",
              "       [5.8, 2.7, 4.1, 1. , 2. ],\n",
              "       [6.2, 2.2, 4.5, 1.5, 2. ],\n",
              "       [5.6, 2.5, 3.9, 1.1, 2. ],\n",
              "       [5.9, 3.2, 4.8, 1.8, 2. ],\n",
              "       [6.1, 2.8, 4. , 1.3, 2. ],\n",
              "       [6.3, 2.5, 4.9, 1.5, 2. ],\n",
              "       [6.1, 2.8, 4.7, 1.2, 2. ],\n",
              "       [6.4, 2.9, 4.3, 1.3, 2. ],\n",
              "       [6.6, 3. , 4.4, 1.4, 2. ],\n",
              "       [6.8, 2.8, 4.8, 1.4, 2. ],\n",
              "       [6.7, 3. , 5. , 1.7, 2. ],\n",
              "       [6. , 2.9, 4.5, 1.5, 2. ],\n",
              "       [5.7, 2.6, 3.5, 1. , 2. ],\n",
              "       [5.5, 2.4, 3.8, 1.1, 2. ],\n",
              "       [5.5, 2.4, 3.7, 1. , 2. ],\n",
              "       [5.8, 2.7, 3.9, 1.2, 2. ],\n",
              "       [6. , 2.7, 5.1, 1.6, 2. ],\n",
              "       [5.4, 3. , 4.5, 1.5, 2. ],\n",
              "       [6. , 3.4, 4.5, 1.6, 2. ],\n",
              "       [6.7, 3.1, 4.7, 1.5, 2. ],\n",
              "       [6.3, 2.3, 4.4, 1.3, 2. ],\n",
              "       [5.6, 3. , 4.1, 1.3, 2. ],\n",
              "       [5.5, 2.5, 4. , 1.3, 2. ],\n",
              "       [5.5, 2.6, 4.4, 1.2, 2. ],\n",
              "       [6.1, 3. , 4.6, 1.4, 2. ],\n",
              "       [5.8, 2.6, 4. , 1.2, 2. ],\n",
              "       [5. , 2.3, 3.3, 1. , 2. ],\n",
              "       [5.6, 2.7, 4.2, 1.3, 2. ],\n",
              "       [5.7, 3. , 4.2, 1.2, 2. ],\n",
              "       [5.7, 2.9, 4.2, 1.3, 2. ],\n",
              "       [6.2, 2.9, 4.3, 1.3, 2. ],\n",
              "       [5.1, 2.5, 3. , 1.1, 2. ],\n",
              "       [5.7, 2.8, 4.1, 1.3, 2. ],\n",
              "       [6.3, 3.3, 6. , 2.5, 3. ],\n",
              "       [5.8, 2.7, 5.1, 1.9, 3. ],\n",
              "       [7.1, 3. , 5.9, 2.1, 3. ],\n",
              "       [6.3, 2.9, 5.6, 1.8, 3. ],\n",
              "       [6.5, 3. , 5.8, 2.2, 3. ],\n",
              "       [7.6, 3. , 6.6, 2.1, 3. ],\n",
              "       [4.9, 2.5, 4.5, 1.7, 3. ],\n",
              "       [7.3, 2.9, 6.3, 1.8, 3. ],\n",
              "       [6.7, 2.5, 5.8, 1.8, 3. ],\n",
              "       [7.2, 3.6, 6.1, 2.5, 3. ],\n",
              "       [6.5, 3.2, 5.1, 2. , 3. ],\n",
              "       [6.4, 2.7, 5.3, 1.9, 3. ],\n",
              "       [6.8, 3. , 5.5, 2.1, 3. ],\n",
              "       [5.7, 2.5, 5. , 2. , 3. ],\n",
              "       [5.8, 2.8, 5.1, 2.4, 3. ],\n",
              "       [6.4, 3.2, 5.3, 2.3, 3. ],\n",
              "       [6.5, 3. , 5.5, 1.8, 3. ],\n",
              "       [7.7, 3.8, 6.7, 2.2, 3. ],\n",
              "       [7.7, 2.6, 6.9, 2.3, 3. ],\n",
              "       [6. , 2.2, 5. , 1.5, 3. ],\n",
              "       [6.9, 3.2, 5.7, 2.3, 3. ],\n",
              "       [5.6, 2.8, 4.9, 2. , 3. ],\n",
              "       [7.7, 2.8, 6.7, 2. , 3. ],\n",
              "       [6.3, 2.7, 4.9, 1.8, 3. ],\n",
              "       [6.7, 3.3, 5.7, 2.1, 3. ],\n",
              "       [7.2, 3.2, 6. , 1.8, 3. ],\n",
              "       [6.2, 2.8, 4.8, 1.8, 3. ],\n",
              "       [6.1, 3. , 4.9, 1.8, 3. ],\n",
              "       [6.4, 2.8, 5.6, 2.1, 3. ],\n",
              "       [7.2, 3. , 5.8, 1.6, 3. ],\n",
              "       [7.4, 2.8, 6.1, 1.9, 3. ],\n",
              "       [7.9, 3.8, 6.4, 2. , 3. ],\n",
              "       [6.4, 2.8, 5.6, 2.2, 3. ],\n",
              "       [6.3, 2.8, 5.1, 1.5, 3. ],\n",
              "       [6.1, 2.6, 5.6, 1.4, 3. ],\n",
              "       [7.7, 3. , 6.1, 2.3, 3. ],\n",
              "       [6.3, 3.4, 5.6, 2.4, 3. ],\n",
              "       [6.4, 3.1, 5.5, 1.8, 3. ],\n",
              "       [6. , 3. , 4.8, 1.8, 3. ],\n",
              "       [6.9, 3.1, 5.4, 2.1, 3. ],\n",
              "       [6.7, 3.1, 5.6, 2.4, 3. ],\n",
              "       [6.9, 3.1, 5.1, 2.3, 3. ],\n",
              "       [5.8, 2.7, 5.1, 1.9, 3. ],\n",
              "       [6.8, 3.2, 5.9, 2.3, 3. ],\n",
              "       [6.7, 3.3, 5.7, 2.5, 3. ],\n",
              "       [6.7, 3. , 5.2, 2.3, 3. ],\n",
              "       [6.3, 2.5, 5. , 1.9, 3. ],\n",
              "       [6.5, 3. , 5.2, 2. , 3. ],\n",
              "       [6.2, 3.4, 5.4, 2.3, 3. ],\n",
              "       [5.9, 3. , 5.1, 1.8, 3. ]])"
            ]
          },
          "metadata": {},
          "execution_count": 3
        }
      ]
    },
    {
      "cell_type": "code",
      "source": [
        "# split into input (X) and output (y) variables\n",
        "X = dataset[:,0:4]\n",
        "y = dataset[:,4]"
      ],
      "metadata": {
        "id": "_-Y46G4vSy32"
      },
      "id": "_-Y46G4vSy32",
      "execution_count": 20,
      "outputs": []
    },
    {
      "cell_type": "markdown",
      "source": [
        "## Define Keras Model\n",
        "\n",
        "Los modelos en Keras se definen como una secuencia de capas.\n",
        "\n",
        "Creamos un modelo secuencial y agregamos capas una a la vez hasta que estemos satisfechos con nuestra arquitectura de red.\n",
        "\n",
        "Lo primero que hay que hacer es asegurarse de que la capa de entrada tenga la cantidad correcta de entidades de entrada. Esto se puede especificar al crear la primera capa con el argumento input_shape y configurarlo en (8,) para presentar las ocho variables de entrada como un vector.\n",
        "\n",
        "### ¿Cómo sabemos el número de capas y sus tipos?\n",
        "\n",
        "Esta es una pregunta complicada.\n",
        "\n",
        "Hay heurísticas que puede utilizar y, a menudo, la mejor estructura de red se encuentra mediante un proceso de experimentación de prueba y error.\n",
        "\n",
        "Generalmente, necesita una red lo suficientemente grande como para capturar la estructura del problema.\n",
        "\n",
        "En este ejemplo, usemos una estructura de red completamente conectada con tres capas.\n",
        "\n",
        "Las capas completamente conectadas se definen mediante la clase Dense.\n",
        "\n",
        "Puede especificar el número de neuronas o nodos en la capa como primer argumento y la función de activación utilizando el argumento de activación.\n",
        "\n",
        "**Además, utilizaremos la función de activación de unidad lineal rectificada denominada ReLU en las dos primeras capas y la función Sigmoidea en la capa de salida.**\n",
        "\n",
        "Solía darse el caso de que las funciones de activación Sigmoide y Tanh eran preferidas para todas las capas. Hoy en día, se logra un mejor rendimiento utilizando la función de activación ReLU.\n",
        "\n",
        "**El uso de un sigmoide en la capa de salida garantiza que la salida de su red esté entre 0 y 1 y es fácil de asignar a una probabilidad de clase 1 o ajustarse a una clasificación estricta de cualquier clase con un umbral predeterminado de 0.5.**\n",
        "\n",
        "En resumen:\n",
        "\n",
        "* El modelo espera filas de datos con 8 variables (el argumento input_shape =(8,)).\n",
        "* La primera capa oculta tiene 12 nodos y utiliza la función de activación ReLU.\n",
        "* La segunda capa oculta tiene 8 nodos y utiliza la función de activación ReLU.\n",
        "* La capa de salida tiene un nodo y utiliza la función de activación sigmoide."
      ],
      "metadata": {
        "id": "GDf75_ZDe895"
      },
      "id": "GDf75_ZDe895"
    },
    {
      "cell_type": "code",
      "source": [
        "#\n",
        "model = Sequential()\n",
        "\n",
        "model.add(Dense(12, input_shape = (4,), activation = 'relu'))\n",
        "\n",
        "model.add(Dense(8, activation = 'relu'))\n",
        "\n",
        "model.add(Dense(1, activation = 'sigmoid'))"
      ],
      "metadata": {
        "id": "B3dRjRkLSy9V"
      },
      "id": "B3dRjRkLSy9V",
      "execution_count": 21,
      "outputs": []
    },
    {
      "cell_type": "markdown",
      "source": [
        "## Compile Keras Model\n",
        "\n",
        "La compilación del modelo utiliza bibliotecas numéricas eficientes (el llamado backend), como Theano o TensorFlow.\n",
        "\n",
        "El backend elige automáticamente la mejor manera de representar la red para entrenar y hacer predicciones para ejecutar en su hardware, como CPU, GPU o incluso distribuido.\n",
        "\n",
        "Al compilar, se debe especificar algunas propiedades adicionales necesarias al entrenar la red. Recuerde entrenar una red significa encontrar el mejor conjunto de ponderaciones para asignar entradas a salidas en su conjunto de datos.\n",
        "\n",
        "Debe especificar la función de pérdida que se utilizará para evaluar un conjunto de ponderaciones, el optimizador utilizado para buscar diferentes ponderaciones para la red y cualquier métrica opcional que desee recopilar e informar durante el entrenamiento.\n",
        "\n",
        "En este caso, utilizamos la **entropía cruzada** como argumento de pérdida. Esta pérdida es para problemas de clasificación binaria y se define en Keras como \"binary_crossentropy\".\n",
        "\n",
        "Definiremos el optimizador como el eficiente algoritmo de descenso de gradiente estocástico \"adam\". Esta es una versión popular del descenso de gradiente porque se sintoniza automáticamente y da buenos resultados en una amplia gama de problemas.\n",
        "\n",
        "Finalmente, debido a que se trata de un problema de clasificación, recopilará e informará la precisión de la clasificación definida mediante el argumento de métricas."
      ],
      "metadata": {
        "id": "y7tz_FaAjlrm"
      },
      "id": "y7tz_FaAjlrm"
    },
    {
      "cell_type": "code",
      "source": [
        "# compile the keras model\n",
        "model.compile(loss='binary_crossentropy', optimizer='adam', metrics=['accuracy'])"
      ],
      "metadata": {
        "id": "UmxYLP9Vec42"
      },
      "id": "UmxYLP9Vec42",
      "execution_count": 22,
      "outputs": []
    },
    {
      "cell_type": "markdown",
      "source": [
        "## Fit Keras Model\n",
        "\n",
        "Ahora es el momento de ejecutar el modelo con algunos datos.\n",
        "\n",
        "Entrenamos o ajustamos el modelo a los datos cargados llamando a la función fit() en el modelo.\n",
        "\n",
        "El entrenamiento se produce a lo largo de épocas (epoch) y cada época se divide en lotes (batches).\n",
        "\n",
        "* Época: una pasada por todas las filas del conjunto de datos de entrenamiento\n",
        "\n",
        "* Lote: una o más muestras consideradas por el modelo dentro de una época antes de que se actualicen los pesos.\n",
        "\n",
        "**Una época comprende uno o más lotes, según el tamaño de lote elegido, y el modelo es apto para muchas épocas.**\n",
        "\n",
        "El proceso de entrenamiento se ejecutará durante un número fijo de épocas (iteraciones) a través del conjunto de datos que debe especificar mediante el argumento epochs.\n",
        "\n",
        "Se debe establecer el número de filas del conjunto de datos que se consideran antes de que se actualicen los pesos del modelo dentro de cada época, denominado tamaño de lote, y establecerlo mediante el argumento batch_size.\n",
        "\n",
        "Nuestro problema se ejecutará durante una pequeña cantidad de épocas (150) y utilizará un tamaño de lote relativamente pequeño de 10.\n",
        "\n",
        "**Estas configuraciones se pueden elegir experimentalmente mediante prueba y error.**"
      ],
      "metadata": {
        "id": "wG9vQEcPkbMk"
      },
      "id": "wG9vQEcPkbMk"
    },
    {
      "cell_type": "code",
      "source": [
        "# fit the keras model on the dataset\n",
        "model.fit(X, y, epochs=100, batch_size=5)"
      ],
      "metadata": {
        "colab": {
          "base_uri": "https://localhost:8080/"
        },
        "id": "bX1_CPbLec7d",
        "outputId": "2f7f8bfa-e492-48fd-fe78-aade437a2777"
      },
      "id": "bX1_CPbLec7d",
      "execution_count": 23,
      "outputs": [
        {
          "output_type": "stream",
          "name": "stdout",
          "text": [
            "Epoch 1/100\n",
            "30/30 [==============================] - 1s 4ms/step - loss: -0.9630 - accuracy: 0.3333\n",
            "Epoch 2/100\n",
            "30/30 [==============================] - 0s 4ms/step - loss: -2.6150 - accuracy: 0.3333\n",
            "Epoch 3/100\n",
            "30/30 [==============================] - 0s 3ms/step - loss: -4.8775 - accuracy: 0.3333\n",
            "Epoch 4/100\n",
            "30/30 [==============================] - 0s 3ms/step - loss: -8.2735 - accuracy: 0.3333\n",
            "Epoch 5/100\n",
            "30/30 [==============================] - 0s 4ms/step - loss: -12.8430 - accuracy: 0.3333\n",
            "Epoch 6/100\n",
            "30/30 [==============================] - 0s 4ms/step - loss: -18.9086 - accuracy: 0.3333\n",
            "Epoch 7/100\n",
            "30/30 [==============================] - 0s 5ms/step - loss: -26.9329 - accuracy: 0.3333\n",
            "Epoch 8/100\n",
            "30/30 [==============================] - 0s 3ms/step - loss: -36.9695 - accuracy: 0.3333\n",
            "Epoch 9/100\n",
            "30/30 [==============================] - 0s 5ms/step - loss: -49.6794 - accuracy: 0.3333\n",
            "Epoch 10/100\n",
            "30/30 [==============================] - 0s 5ms/step - loss: -65.1230 - accuracy: 0.3333\n",
            "Epoch 11/100\n",
            "30/30 [==============================] - 0s 4ms/step - loss: -83.0154 - accuracy: 0.3333\n",
            "Epoch 12/100\n",
            "30/30 [==============================] - 0s 4ms/step - loss: -104.2377 - accuracy: 0.3333\n",
            "Epoch 13/100\n",
            "30/30 [==============================] - 0s 4ms/step - loss: -129.2547 - accuracy: 0.3333\n",
            "Epoch 14/100\n",
            "30/30 [==============================] - 0s 2ms/step - loss: -156.8644 - accuracy: 0.3333\n",
            "Epoch 15/100\n",
            "30/30 [==============================] - 0s 2ms/step - loss: -189.1297 - accuracy: 0.3333\n",
            "Epoch 16/100\n",
            "30/30 [==============================] - 0s 2ms/step - loss: -225.2477 - accuracy: 0.3333\n",
            "Epoch 17/100\n",
            "30/30 [==============================] - 0s 3ms/step - loss: -265.3256 - accuracy: 0.3333\n",
            "Epoch 18/100\n",
            "30/30 [==============================] - 0s 3ms/step - loss: -311.3107 - accuracy: 0.3333\n",
            "Epoch 19/100\n",
            "30/30 [==============================] - 0s 3ms/step - loss: -360.6476 - accuracy: 0.3333\n",
            "Epoch 20/100\n",
            "30/30 [==============================] - 0s 2ms/step - loss: -416.6192 - accuracy: 0.3333\n",
            "Epoch 21/100\n",
            "30/30 [==============================] - 0s 2ms/step - loss: -477.3852 - accuracy: 0.3333\n",
            "Epoch 22/100\n",
            "30/30 [==============================] - 0s 3ms/step - loss: -541.3333 - accuracy: 0.3333\n",
            "Epoch 23/100\n",
            "30/30 [==============================] - 0s 3ms/step - loss: -615.2874 - accuracy: 0.3333\n",
            "Epoch 24/100\n",
            "30/30 [==============================] - 0s 2ms/step - loss: -690.1516 - accuracy: 0.3333\n",
            "Epoch 25/100\n",
            "30/30 [==============================] - 0s 2ms/step - loss: -774.8236 - accuracy: 0.3333\n",
            "Epoch 26/100\n",
            "30/30 [==============================] - 0s 2ms/step - loss: -864.0786 - accuracy: 0.3333\n",
            "Epoch 27/100\n",
            "30/30 [==============================] - 0s 2ms/step - loss: -960.9769 - accuracy: 0.3333\n",
            "Epoch 28/100\n",
            "30/30 [==============================] - 0s 2ms/step - loss: -1060.3358 - accuracy: 0.3333\n",
            "Epoch 29/100\n",
            "30/30 [==============================] - 0s 2ms/step - loss: -1172.0343 - accuracy: 0.3333\n",
            "Epoch 30/100\n",
            "30/30 [==============================] - 0s 2ms/step - loss: -1286.4364 - accuracy: 0.3333\n",
            "Epoch 31/100\n",
            "30/30 [==============================] - 0s 3ms/step - loss: -1407.4512 - accuracy: 0.3333\n",
            "Epoch 32/100\n",
            "30/30 [==============================] - 0s 2ms/step - loss: -1537.0607 - accuracy: 0.3333\n",
            "Epoch 33/100\n",
            "30/30 [==============================] - 0s 2ms/step - loss: -1674.0814 - accuracy: 0.3333\n",
            "Epoch 34/100\n",
            "30/30 [==============================] - 0s 3ms/step - loss: -1818.9254 - accuracy: 0.3333\n",
            "Epoch 35/100\n",
            "30/30 [==============================] - 0s 3ms/step - loss: -1967.1031 - accuracy: 0.3333\n",
            "Epoch 36/100\n",
            "30/30 [==============================] - 0s 3ms/step - loss: -2125.9480 - accuracy: 0.3333\n",
            "Epoch 37/100\n",
            "30/30 [==============================] - 0s 2ms/step - loss: -2292.0691 - accuracy: 0.3333\n",
            "Epoch 38/100\n",
            "30/30 [==============================] - 0s 3ms/step - loss: -2467.5027 - accuracy: 0.3333\n",
            "Epoch 39/100\n",
            "30/30 [==============================] - 0s 2ms/step - loss: -2647.2620 - accuracy: 0.3333\n",
            "Epoch 40/100\n",
            "30/30 [==============================] - 0s 3ms/step - loss: -2836.9165 - accuracy: 0.3333\n",
            "Epoch 41/100\n",
            "30/30 [==============================] - 0s 2ms/step - loss: -3038.6909 - accuracy: 0.3333\n",
            "Epoch 42/100\n",
            "30/30 [==============================] - 0s 2ms/step - loss: -3237.8950 - accuracy: 0.3333\n",
            "Epoch 43/100\n",
            "30/30 [==============================] - 0s 2ms/step - loss: -3456.6003 - accuracy: 0.3333\n",
            "Epoch 44/100\n",
            "30/30 [==============================] - 0s 3ms/step - loss: -3678.5378 - accuracy: 0.3333\n",
            "Epoch 45/100\n",
            "30/30 [==============================] - 0s 3ms/step - loss: -3911.8389 - accuracy: 0.3333\n",
            "Epoch 46/100\n",
            "30/30 [==============================] - 0s 2ms/step - loss: -4149.7969 - accuracy: 0.3333\n",
            "Epoch 47/100\n",
            "30/30 [==============================] - 0s 2ms/step - loss: -4392.9849 - accuracy: 0.3333\n",
            "Epoch 48/100\n",
            "30/30 [==============================] - 0s 3ms/step - loss: -4653.7686 - accuracy: 0.3333\n",
            "Epoch 49/100\n",
            "30/30 [==============================] - 0s 3ms/step - loss: -4915.6401 - accuracy: 0.3333\n",
            "Epoch 50/100\n",
            "30/30 [==============================] - 0s 3ms/step - loss: -5192.0347 - accuracy: 0.3333\n",
            "Epoch 51/100\n",
            "30/30 [==============================] - 0s 2ms/step - loss: -5466.6919 - accuracy: 0.3333\n",
            "Epoch 52/100\n",
            "30/30 [==============================] - 0s 2ms/step - loss: -5760.7153 - accuracy: 0.3333\n",
            "Epoch 53/100\n",
            "30/30 [==============================] - 0s 2ms/step - loss: -6058.3433 - accuracy: 0.3333\n",
            "Epoch 54/100\n",
            "30/30 [==============================] - 0s 2ms/step - loss: -6366.2153 - accuracy: 0.3333\n",
            "Epoch 55/100\n",
            "30/30 [==============================] - 0s 2ms/step - loss: -6686.8950 - accuracy: 0.3333\n",
            "Epoch 56/100\n",
            "30/30 [==============================] - 0s 3ms/step - loss: -7009.5352 - accuracy: 0.3333\n",
            "Epoch 57/100\n",
            "30/30 [==============================] - 0s 2ms/step - loss: -7338.9199 - accuracy: 0.3333\n",
            "Epoch 58/100\n",
            "30/30 [==============================] - 0s 3ms/step - loss: -7686.6206 - accuracy: 0.3333\n",
            "Epoch 59/100\n",
            "30/30 [==============================] - 0s 3ms/step - loss: -8043.7998 - accuracy: 0.3333\n",
            "Epoch 60/100\n",
            "30/30 [==============================] - 0s 3ms/step - loss: -8404.5605 - accuracy: 0.3333\n",
            "Epoch 61/100\n",
            "30/30 [==============================] - 0s 3ms/step - loss: -8779.2891 - accuracy: 0.3333\n",
            "Epoch 62/100\n",
            "30/30 [==============================] - 0s 3ms/step - loss: -9153.1777 - accuracy: 0.3333\n",
            "Epoch 63/100\n",
            "30/30 [==============================] - 0s 3ms/step - loss: -9556.1270 - accuracy: 0.3333\n",
            "Epoch 64/100\n",
            "30/30 [==============================] - 0s 3ms/step - loss: -9956.5713 - accuracy: 0.3333\n",
            "Epoch 65/100\n",
            "30/30 [==============================] - 0s 3ms/step - loss: -10357.9102 - accuracy: 0.3333\n",
            "Epoch 66/100\n",
            "30/30 [==============================] - 0s 2ms/step - loss: -10789.2959 - accuracy: 0.3333\n",
            "Epoch 67/100\n",
            "30/30 [==============================] - 0s 3ms/step - loss: -11217.6826 - accuracy: 0.3333\n",
            "Epoch 68/100\n",
            "30/30 [==============================] - 0s 3ms/step - loss: -11657.6201 - accuracy: 0.3333\n",
            "Epoch 69/100\n",
            "30/30 [==============================] - 0s 2ms/step - loss: -12113.4482 - accuracy: 0.3333\n",
            "Epoch 70/100\n",
            "30/30 [==============================] - 0s 2ms/step - loss: -12561.6445 - accuracy: 0.3333\n",
            "Epoch 71/100\n",
            "30/30 [==============================] - 0s 2ms/step - loss: -13040.6885 - accuracy: 0.3333\n",
            "Epoch 72/100\n",
            "30/30 [==============================] - 0s 2ms/step - loss: -13516.2021 - accuracy: 0.3333\n",
            "Epoch 73/100\n",
            "30/30 [==============================] - 0s 2ms/step - loss: -14006.8047 - accuracy: 0.3333\n",
            "Epoch 74/100\n",
            "30/30 [==============================] - 0s 2ms/step - loss: -14506.0938 - accuracy: 0.3333\n",
            "Epoch 75/100\n",
            "30/30 [==============================] - 0s 2ms/step - loss: -15022.2588 - accuracy: 0.3333\n",
            "Epoch 76/100\n",
            "30/30 [==============================] - 0s 2ms/step - loss: -15541.0137 - accuracy: 0.3333\n",
            "Epoch 77/100\n",
            "30/30 [==============================] - 0s 2ms/step - loss: -16074.5215 - accuracy: 0.3333\n",
            "Epoch 78/100\n",
            "30/30 [==============================] - 0s 2ms/step - loss: -16612.0664 - accuracy: 0.3333\n",
            "Epoch 79/100\n",
            "30/30 [==============================] - 0s 2ms/step - loss: -17166.3906 - accuracy: 0.3333\n",
            "Epoch 80/100\n",
            "30/30 [==============================] - 0s 2ms/step - loss: -17728.5449 - accuracy: 0.3333\n",
            "Epoch 81/100\n",
            "30/30 [==============================] - 0s 3ms/step - loss: -18302.8926 - accuracy: 0.3333\n",
            "Epoch 82/100\n",
            "30/30 [==============================] - 0s 2ms/step - loss: -18883.0664 - accuracy: 0.3333\n",
            "Epoch 83/100\n",
            "30/30 [==============================] - 0s 2ms/step - loss: -19481.2695 - accuracy: 0.3333\n",
            "Epoch 84/100\n",
            "30/30 [==============================] - 0s 2ms/step - loss: -20093.0020 - accuracy: 0.3333\n",
            "Epoch 85/100\n",
            "30/30 [==============================] - 0s 2ms/step - loss: -20703.4492 - accuracy: 0.3333\n",
            "Epoch 86/100\n",
            "30/30 [==============================] - 0s 2ms/step - loss: -21328.1152 - accuracy: 0.3333\n",
            "Epoch 87/100\n",
            "30/30 [==============================] - 0s 3ms/step - loss: -21980.1777 - accuracy: 0.3333\n",
            "Epoch 88/100\n",
            "30/30 [==============================] - 0s 3ms/step - loss: -22616.4824 - accuracy: 0.3333\n",
            "Epoch 89/100\n",
            "30/30 [==============================] - 0s 3ms/step - loss: -23285.1992 - accuracy: 0.3333\n",
            "Epoch 90/100\n",
            "30/30 [==============================] - 0s 3ms/step - loss: -23961.0879 - accuracy: 0.3333\n",
            "Epoch 91/100\n",
            "30/30 [==============================] - 0s 3ms/step - loss: -24638.0859 - accuracy: 0.3333\n",
            "Epoch 92/100\n",
            "30/30 [==============================] - 0s 2ms/step - loss: -25330.5586 - accuracy: 0.3333\n",
            "Epoch 93/100\n",
            "30/30 [==============================] - 0s 3ms/step - loss: -26039.1230 - accuracy: 0.3333\n",
            "Epoch 94/100\n",
            "30/30 [==============================] - 0s 3ms/step - loss: -26767.5391 - accuracy: 0.3333\n",
            "Epoch 95/100\n",
            "30/30 [==============================] - 0s 3ms/step - loss: -27485.0957 - accuracy: 0.3333\n",
            "Epoch 96/100\n",
            "30/30 [==============================] - 0s 2ms/step - loss: -28212.5039 - accuracy: 0.3333\n",
            "Epoch 97/100\n",
            "30/30 [==============================] - 0s 3ms/step - loss: -28969.2773 - accuracy: 0.3333\n",
            "Epoch 98/100\n",
            "30/30 [==============================] - 0s 2ms/step - loss: -29727.9531 - accuracy: 0.3333\n",
            "Epoch 99/100\n",
            "30/30 [==============================] - 0s 2ms/step - loss: -30498.8359 - accuracy: 0.3333\n",
            "Epoch 100/100\n",
            "30/30 [==============================] - 0s 2ms/step - loss: -31275.6602 - accuracy: 0.3333\n"
          ]
        },
        {
          "output_type": "execute_result",
          "data": {
            "text/plain": [
              "<keras.src.callbacks.History at 0x7c0bcaf726b0>"
            ]
          },
          "metadata": {},
          "execution_count": 23
        }
      ]
    },
    {
      "cell_type": "markdown",
      "source": [
        "## Evaluate Keras Model\n",
        "\n",
        "Una vez entrenada nuestra red neuronal en todo el conjunto de datos y podemos evaluar el rendimiento de la red en el mismo conjunto de datos.\n",
        "\n",
        "Esto nos dará una idea de qué tan bien ha modelado el conjunto de datos, pero no da idea de qué tan bien podría funcionar el algoritmo con datos nuevos.\n",
        "\n",
        "**Esto se hizo por simplicidad, pero lo ideal sería separar los datos en conjuntos de datos de entrenamiento y prueba para entrenar y evaluar su modelo.**\n",
        "\n",
        "Podemos evaluar el modelo en el conjunto de datos de entrenamiento usando la función evaluate() y pasarle la misma entrada y salida utilizada para entrenar el modelo.\n",
        "\n",
        "Esto generará una predicción para cada par de entrada y salida y recopilará puntuaciones, incluida la pérdida promedio y cualquier métrica que haya configurado, como la precisión.\n",
        "\n",
        "La función evaluate() devolverá una lista con dos valores. El primero será la pérdida del modelo en el conjunto de datos y el segundo será la precisión del modelo en el conjunto de datos. Habitualmente sólo interesa informar la precisión, así que podemos ignorar el valor de la pérdida."
      ],
      "metadata": {
        "id": "a6ehamezl_7x"
      },
      "id": "a6ehamezl_7x"
    },
    {
      "cell_type": "code",
      "source": [
        "# evaluate the keras model\n",
        "_, accuracy = model.evaluate(X, y)\n",
        "print('Accuracy: %.2f' % (accuracy*100))"
      ],
      "metadata": {
        "colab": {
          "base_uri": "https://localhost:8080/"
        },
        "id": "nqS7c_Vgec-k",
        "outputId": "ec3420e5-aa8b-42e0-a426-f34f5bfb9d8a"
      },
      "id": "nqS7c_Vgec-k",
      "execution_count": 24,
      "outputs": [
        {
          "output_type": "stream",
          "name": "stdout",
          "text": [
            "5/5 [==============================] - 0s 3ms/step - loss: -31684.0273 - accuracy: 0.3333\n",
            "Accuracy: 33.33\n"
          ]
        }
      ]
    },
    {
      "cell_type": "markdown",
      "source": [
        "## Nota importante:\n",
        "\n",
        "Si intenta ejecutar este ejemplo en una computadora portátil IPython o Jupyter, es posible que obtenga un error.\n",
        "\n",
        "El motivo son las barras de progreso de salida durante el entrenamiento. Puede desactivarlos fácilmente configurando verbose=0 en la llamada a las funciones fit() y evalua(); Por ejemplo:"
      ],
      "metadata": {
        "id": "tJ59iDhcnc3t"
      },
      "id": "tJ59iDhcnc3t"
    },
    {
      "cell_type": "code",
      "source": [
        "# fit the keras model on the dataset without progress bars\n",
        "model.fit(X, y, epochs=150, batch_size=10, verbose=0)\n",
        "# evaluate the keras model\n",
        "_, accuracy = model.evaluate(X, y, verbose=0)"
      ],
      "metadata": {
        "id": "PGY2wtI4edBL"
      },
      "id": "PGY2wtI4edBL",
      "execution_count": null,
      "outputs": []
    },
    {
      "cell_type": "markdown",
      "source": [
        "## Make Predictions"
      ],
      "metadata": {
        "id": "uhofO3HxoFiW"
      },
      "id": "uhofO3HxoFiW"
    },
    {
      "cell_type": "code",
      "source": [
        "# make probability predictions with the model\n",
        "predictions = model.predict(X)\n",
        "\n",
        "predictions[:10]"
      ],
      "metadata": {
        "colab": {
          "base_uri": "https://localhost:8080/"
        },
        "id": "U3ko0zahedDy",
        "outputId": "91f77a45-ead1-4743-a300-41ab65b10998"
      },
      "id": "U3ko0zahedDy",
      "execution_count": 25,
      "outputs": [
        {
          "output_type": "stream",
          "name": "stdout",
          "text": [
            "5/5 [==============================] - 0s 3ms/step\n"
          ]
        },
        {
          "output_type": "execute_result",
          "data": {
            "text/plain": [
              "array([[1.],\n",
              "       [1.],\n",
              "       [1.],\n",
              "       [1.],\n",
              "       [1.],\n",
              "       [1.],\n",
              "       [1.],\n",
              "       [1.],\n",
              "       [1.],\n",
              "       [1.]], dtype=float32)"
            ]
          },
          "metadata": {},
          "execution_count": 25
        }
      ]
    },
    {
      "cell_type": "code",
      "source": [
        "# round predictions\n",
        "rounded = [round(x[0]) for x in predictions]\n",
        "\n",
        "rounded[:10]"
      ],
      "metadata": {
        "colab": {
          "base_uri": "https://localhost:8080/"
        },
        "id": "cbYFLYlwojl8",
        "outputId": "18b987db-d27c-4d72-9676-b49b4085f3c7"
      },
      "id": "cbYFLYlwojl8",
      "execution_count": 26,
      "outputs": [
        {
          "output_type": "execute_result",
          "data": {
            "text/plain": [
              "[1, 1, 1, 1, 1, 1, 1, 1, 1, 1]"
            ]
          },
          "metadata": {},
          "execution_count": 26
        }
      ]
    },
    {
      "cell_type": "code",
      "source": [
        "# Alternately, you can convert the probability into 0 or 1 to predict crisp classes directly; for example:\n",
        "\n",
        "# make class predictions with the model\n",
        "predictions = (model.predict(X) > 0.5).astype(int)\n",
        "\n",
        "predictions[:10]"
      ],
      "metadata": {
        "colab": {
          "base_uri": "https://localhost:8080/"
        },
        "id": "mIEMxt2HedGZ",
        "outputId": "6a638208-2d2f-4fef-ce91-2cff6e6d6489"
      },
      "id": "mIEMxt2HedGZ",
      "execution_count": 27,
      "outputs": [
        {
          "output_type": "stream",
          "name": "stdout",
          "text": [
            "5/5 [==============================] - 0s 3ms/step\n"
          ]
        },
        {
          "output_type": "execute_result",
          "data": {
            "text/plain": [
              "array([[1],\n",
              "       [1],\n",
              "       [1],\n",
              "       [1],\n",
              "       [1],\n",
              "       [1],\n",
              "       [1],\n",
              "       [1],\n",
              "       [1],\n",
              "       [1]])"
            ]
          },
          "metadata": {},
          "execution_count": 27
        }
      ]
    },
    {
      "cell_type": "code",
      "source": [],
      "metadata": {
        "id": "j72Cj_khoV2g"
      },
      "id": "j72Cj_khoV2g",
      "execution_count": null,
      "outputs": []
    },
    {
      "cell_type": "code",
      "source": [],
      "metadata": {
        "id": "mD0wprMLoV5X"
      },
      "id": "mD0wprMLoV5X",
      "execution_count": null,
      "outputs": []
    }
  ],
  "metadata": {
    "kernelspec": {
      "display_name": "Python 3 (ipykernel)",
      "language": "python",
      "name": "python3"
    },
    "language_info": {
      "codemirror_mode": {
        "name": "ipython",
        "version": 3
      },
      "file_extension": ".py",
      "mimetype": "text/x-python",
      "name": "python",
      "nbconvert_exporter": "python",
      "pygments_lexer": "ipython3",
      "version": "3.10.14"
    },
    "papermill": {
      "default_parameters": {},
      "duration": 1666.680651,
      "end_time": "2023-03-16T00:12:37.486600",
      "environment_variables": {},
      "exception": null,
      "input_path": "__notebook__.ipynb",
      "output_path": "__notebook__.ipynb",
      "parameters": {},
      "start_time": "2023-03-15T23:44:50.805949",
      "version": "2.3.4"
    },
    "colab": {
      "provenance": [],
      "include_colab_link": true
    }
  },
  "nbformat": 4,
  "nbformat_minor": 5
}